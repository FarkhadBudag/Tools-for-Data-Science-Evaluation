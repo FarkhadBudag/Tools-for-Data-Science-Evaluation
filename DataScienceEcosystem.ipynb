{
 "cells": [
  {
   "metadata": {},
   "cell_type": "markdown",
   "source": "# Data Science Tools and Ecosystem",
   "id": "bccaee8c0503c420"
  },
  {
   "metadata": {},
   "cell_type": "markdown",
   "source": [
    "In this notebook, Data Science Tools and Ecosystem are summarized.\n",
    "\n",
    "*Objectives*:\n",
    "- State Data Science programming languages\n",
    "- State Data Science libraries\n",
    "- State Data Science tools\n",
    "- Introduce arithmetic expressions in python with examples\n",
    "- Attach the work to a public repository in **GitHub**"
   ],
   "id": "d3779d54d5e0b8fc"
  },
  {
   "metadata": {},
   "cell_type": "markdown",
   "source": [
    "## Data Science Programming Languages\n",
    "Some of the popular languages that Data Scientists use are:\n",
    "1. **Python** is the most widely-used language in Data Science. It supports a lot of features like data visualization *(matplotlib)*, machine learning (*sklearn*), data analysis (*pandas*)\n",
    "2. **R** was one of the most important Data Science languages, however, now it is being replaced by Python. Despite this, it is extremely popular in some Data Science application fields, such as medicine. Moreover, the majority of academic works are being written in this language\n",
    "3. **Java** is a strictly Object-Oriented language, which also found its application in Data Science.\n",
    "4. **Julia** was created in MIT, designed for numerical computing in Data Science.\n",
    "5. **Scala** is widely used with *Apache Spark*\n",
    "6. **SQL** cannot be considered as a full-fledged programming language, but it is vital for working with databases via *queries*\n"
   ],
   "id": "9fba76cd1aa46332"
  },
  {
   "metadata": {},
   "cell_type": "markdown",
   "source": [
    "## Data Science Libraries\n",
    "### Python\n",
    "1. **Pandas** is used for data representation through structured tables with rows and columns. This library allows to preprocess, analyze and catalogue data.\n",
    "2. **NumPy** (*Numerical Python*) is a computational library, that is used in chain with pandas as it can help with big variety of computational problems (*vectors, matrices*).\n",
    "3. **Matplotlib** represents very large plotting library for creating charts, bar graphs, histograms, diagrams, etc. Extremely useful for getting visualization of data.\n",
    "4. **Seaborn** is a visualization library based on matplotlib.\n",
    "5. **Scikit-Learn** as Machine Learning library is actively used in Data Science. Allows creating ML and Deep Learning models.\n",
    "### R\n",
    "1. **ggplot2** is the most popular data visualization library in R. Allows to create compound charts with minimal efforts.\n",
    "2. **caret** is a Machine Learning library in R.\n",
    "### Additional Tools\n",
    "TensorFlow, Keras."
   ],
   "id": "d2a74c8fa6731d2f"
  },
  {
   "metadata": {},
   "cell_type": "markdown",
   "source": [
    "## Data Science Tools\n",
    "| Data Science Tools |\n",
    "| ------------------ |\n",
    "| Jupyter Notebook |\n",
    "| Jupyter Lab|\n",
    "| RStudio |"
   ],
   "id": "13508d82615f1f85"
  },
  {
   "metadata": {},
   "cell_type": "markdown",
   "source": [
    "### Below are a few examples of evaluating arithmetic expressions in Python\n",
    "```python\n",
    "3 + 5\n",
    "\n",
    "14 * 2\n",
    "\n",
    "48 - 28\n",
    "\n",
    "(3 * (5 + 3)) / 2.5\n",
    "```"
   ],
   "id": "2c94eb66637a53f1"
  },
  {
   "metadata": {
    "ExecuteTime": {
     "end_time": "2025-06-29T15:56:31.698126Z",
     "start_time": "2025-06-29T15:56:31.688749Z"
    }
   },
   "cell_type": "code",
   "source": [
    "\n",
    "(3*4)+5\n",
    "# simple arithmetic expression to multiply then add integers"
   ],
   "id": "534171b774f4c9e3",
   "outputs": [
    {
     "data": {
      "text/plain": [
       "17"
      ]
     },
     "execution_count": 1,
     "metadata": {},
     "output_type": "execute_result"
    }
   ],
   "execution_count": 1
  },
  {
   "metadata": {
    "ExecuteTime": {
     "end_time": "2025-06-29T15:59:07.825019Z",
     "start_time": "2025-06-29T15:59:07.816507Z"
    }
   },
   "cell_type": "code",
   "source": [
    "# To convert 200 mins to hours, we need to divide 200 by 60.\n",
    "200 / 60\n"
   ],
   "id": "1d8d1f9b0123e42a",
   "outputs": [
    {
     "data": {
      "text/plain": [
       "3.3333333333333335"
      ]
     },
     "execution_count": 4,
     "metadata": {},
     "output_type": "execute_result"
    }
   ],
   "execution_count": 4
  },
  {
   "metadata": {},
   "cell_type": "markdown",
   "source": [
    "## Author\n",
    "Farhad Nizami Budagov"
   ],
   "id": "e13180f2a8c882b9"
  }
 ],
 "metadata": {
  "kernelspec": {
   "display_name": "Python 3",
   "language": "python",
   "name": "python3"
  },
  "language_info": {
   "codemirror_mode": {
    "name": "ipython",
    "version": 2
   },
   "file_extension": ".py",
   "mimetype": "text/x-python",
   "name": "python",
   "nbconvert_exporter": "python",
   "pygments_lexer": "ipython2",
   "version": "2.7.6"
  }
 },
 "nbformat": 4,
 "nbformat_minor": 5
}
